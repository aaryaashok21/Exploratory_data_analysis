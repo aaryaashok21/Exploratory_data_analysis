{
 "cells": [
  {
   "cell_type": "markdown",
   "metadata": {},
   "source": [
    "## DESCRIPTION\n"
   ]
  },
  {
   "cell_type": "markdown",
   "metadata": {},
   "source": [
    "### This dataset is curated for a data analysis project focusing on a financial transactions and customer behaviour.\n",
    "### It includes structured data to explore patterns ,trends and anomalies in banking activities .It contains various data regarding transaction id,transaction type,location,customer age etc."
   ]
  },
  {
   "cell_type": "markdown",
   "metadata": {},
   "source": [
    "###"
   ]
  },
  {
   "cell_type": "markdown",
   "metadata": {},
   "source": [
    "## Importing libraries\n"
   ]
  },
  {
   "cell_type": "code",
   "execution_count": 1,
   "metadata": {},
   "outputs": [],
   "source": [
    "import pandas as pd\n",
    "import numpy as np\n",
    "import seaborn as sns\n",
    "import matplotlib.pyplot as plt\n"
   ]
  },
  {
   "cell_type": "markdown",
   "metadata": {},
   "source": [
    "## Loading data"
   ]
  },
  {
   "cell_type": "code",
   "execution_count": 2,
   "metadata": {},
   "outputs": [
    {
     "name": "stdout",
     "output_type": "stream",
     "text": [
      "  TransactionID AccountID  TransactionAmount      TransactionDate  \\\n",
      "0      TX000001   AC00128              14.09  2023-04-11 16:29:14   \n",
      "1      TX000002   AC00455             376.24  2023-06-27 16:44:19   \n",
      "2      TX000003   AC00019             126.29  2023-07-10 18:16:08   \n",
      "3      TX000004   AC00070             184.50  2023-05-05 16:32:11   \n",
      "4      TX000005   AC00411              13.45  2023-10-16 17:51:24   \n",
      "\n",
      "  TransactionType   Location DeviceID      IP Address MerchantID Channel  \\\n",
      "0           Debit  San Diego  D000380  162.198.218.92       M015     ATM   \n",
      "1           Debit    Houston  D000051     13.149.61.4       M052     ATM   \n",
      "2           Debit       Mesa  D000235  215.97.143.157       M009  Online   \n",
      "3           Debit    Raleigh  D000187  200.13.225.150       M002  Online   \n",
      "4          Credit    Atlanta  D000308    65.164.3.100       M091  Online   \n",
      "\n",
      "   CustomerAge CustomerOccupation  TransactionDuration  LoginAttempts  \\\n",
      "0           70             Doctor                   81              1   \n",
      "1           68             Doctor                  141              1   \n",
      "2           19            Student                   56              1   \n",
      "3           26            Student                   25              1   \n",
      "4           26            Student                  198              1   \n",
      "\n",
      "   AccountBalance PreviousTransactionDate  \n",
      "0         5112.21     2024-11-04 08:08:08  \n",
      "1        13758.91     2024-11-04 08:09:35  \n",
      "2         1122.35     2024-11-04 08:07:04  \n",
      "3         8569.06     2024-11-04 08:09:06  \n",
      "4         7429.40     2024-11-04 08:06:39  \n",
      "     TransactionID AccountID  TransactionAmount      TransactionDate  \\\n",
      "2507      TX002508   AC00297             856.21  2023-04-26 17:09:36   \n",
      "2508      TX002509   AC00322             251.54  2023-03-22 17:36:48   \n",
      "2509      TX002510   AC00095              28.63  2023-08-21 17:08:50   \n",
      "2510      TX002511   AC00118             185.97  2023-02-24 16:24:46   \n",
      "2511      TX002512   AC00009             243.08  2023-02-14 16:21:23   \n",
      "\n",
      "     TransactionType          Location DeviceID      IP Address MerchantID  \\\n",
      "2507          Credit  Colorado Springs  D000625    21.157.41.17       M072   \n",
      "2508           Debit            Tucson  D000410  49.174.157.140       M029   \n",
      "2509           Debit         San Diego  D000095     58.1.27.124       M087   \n",
      "2510           Debit            Denver  D000634   21.190.11.223       M041   \n",
      "2511          Credit      Jacksonville  D000215   59.127.135.25       M041   \n",
      "\n",
      "     Channel  CustomerAge CustomerOccupation  TransactionDuration  \\\n",
      "2507  Branch           33             Doctor                  109   \n",
      "2508  Branch           48             Doctor                  177   \n",
      "2509  Branch           56            Retired                  146   \n",
      "2510  Online           23            Student                   19   \n",
      "2511  Online           24            Student                   93   \n",
      "\n",
      "      LoginAttempts  AccountBalance PreviousTransactionDate  \n",
      "2507              1        12690.79     2024-11-04 08:11:29  \n",
      "2508              1          254.75     2024-11-04 08:11:42  \n",
      "2509              1         3382.91     2024-11-04 08:08:39  \n",
      "2510              1         1776.91     2024-11-04 08:12:22  \n",
      "2511              1          131.25     2024-11-04 08:07:49  \n"
     ]
    }
   ],
   "source": [
    "df= pd.read_csv('E:\\data science\\dataset\\\\bank transaction.csv')\n",
    "print(df.head(5))\n",
    "print(df.tail(5))"
   ]
  },
  {
   "cell_type": "markdown",
   "metadata": {},
   "source": [
    "## Get info of data "
   ]
  },
  {
   "cell_type": "code",
   "execution_count": 3,
   "metadata": {},
   "outputs": [
    {
     "name": "stdout",
     "output_type": "stream",
     "text": [
      "<class 'pandas.core.frame.DataFrame'>\n",
      "RangeIndex: 2512 entries, 0 to 2511\n",
      "Data columns (total 16 columns):\n",
      " #   Column                   Non-Null Count  Dtype  \n",
      "---  ------                   --------------  -----  \n",
      " 0   TransactionID            2512 non-null   object \n",
      " 1   AccountID                2512 non-null   object \n",
      " 2   TransactionAmount        2512 non-null   float64\n",
      " 3   TransactionDate          2512 non-null   object \n",
      " 4   TransactionType          2512 non-null   object \n",
      " 5   Location                 2512 non-null   object \n",
      " 6   DeviceID                 2512 non-null   object \n",
      " 7   IP Address               2512 non-null   object \n",
      " 8   MerchantID               2512 non-null   object \n",
      " 9   Channel                  2512 non-null   object \n",
      " 10  CustomerAge              2512 non-null   int64  \n",
      " 11  CustomerOccupation       2512 non-null   object \n",
      " 12  TransactionDuration      2512 non-null   int64  \n",
      " 13  LoginAttempts            2512 non-null   int64  \n",
      " 14  AccountBalance           2512 non-null   float64\n",
      " 15  PreviousTransactionDate  2512 non-null   object \n",
      "dtypes: float64(2), int64(3), object(11)\n",
      "memory usage: 314.1+ KB\n"
     ]
    }
   ],
   "source": [
    "df.info()"
   ]
  },
  {
   "cell_type": "markdown",
   "metadata": {},
   "source": [
    "## Cleaning data\n",
    "### Finding null values ,checking duplicates,deleting coloumns ,renaming columns, changing data type, checking outliers"
   ]
  },
  {
   "cell_type": "markdown",
   "metadata": {},
   "source": [
    "* deleting the column transaction duration as its not relevant for the case study"
   ]
  },
  {
   "cell_type": "code",
   "execution_count": 4,
   "metadata": {},
   "outputs": [
    {
     "name": "stdout",
     "output_type": "stream",
     "text": [
      "     TransactionID AccountID  TransactionAmount      TransactionDate  \\\n",
      "0         TX000001   AC00128              14.09  2023-04-11 16:29:14   \n",
      "1         TX000002   AC00455             376.24  2023-06-27 16:44:19   \n",
      "2         TX000003   AC00019             126.29  2023-07-10 18:16:08   \n",
      "3         TX000004   AC00070             184.50  2023-05-05 16:32:11   \n",
      "4         TX000005   AC00411              13.45  2023-10-16 17:51:24   \n",
      "...            ...       ...                ...                  ...   \n",
      "2507      TX002508   AC00297             856.21  2023-04-26 17:09:36   \n",
      "2508      TX002509   AC00322             251.54  2023-03-22 17:36:48   \n",
      "2509      TX002510   AC00095              28.63  2023-08-21 17:08:50   \n",
      "2510      TX002511   AC00118             185.97  2023-02-24 16:24:46   \n",
      "2511      TX002512   AC00009             243.08  2023-02-14 16:21:23   \n",
      "\n",
      "     TransactionType          Location DeviceID      IP Address MerchantID  \\\n",
      "0              Debit         San Diego  D000380  162.198.218.92       M015   \n",
      "1              Debit           Houston  D000051     13.149.61.4       M052   \n",
      "2              Debit              Mesa  D000235  215.97.143.157       M009   \n",
      "3              Debit           Raleigh  D000187  200.13.225.150       M002   \n",
      "4             Credit           Atlanta  D000308    65.164.3.100       M091   \n",
      "...              ...               ...      ...             ...        ...   \n",
      "2507          Credit  Colorado Springs  D000625    21.157.41.17       M072   \n",
      "2508           Debit            Tucson  D000410  49.174.157.140       M029   \n",
      "2509           Debit         San Diego  D000095     58.1.27.124       M087   \n",
      "2510           Debit            Denver  D000634   21.190.11.223       M041   \n",
      "2511          Credit      Jacksonville  D000215   59.127.135.25       M041   \n",
      "\n",
      "     Channel  CustomerAge CustomerOccupation  LoginAttempts  AccountBalance  \\\n",
      "0        ATM           70             Doctor              1         5112.21   \n",
      "1        ATM           68             Doctor              1        13758.91   \n",
      "2     Online           19            Student              1         1122.35   \n",
      "3     Online           26            Student              1         8569.06   \n",
      "4     Online           26            Student              1         7429.40   \n",
      "...      ...          ...                ...            ...             ...   \n",
      "2507  Branch           33             Doctor              1        12690.79   \n",
      "2508  Branch           48             Doctor              1          254.75   \n",
      "2509  Branch           56            Retired              1         3382.91   \n",
      "2510  Online           23            Student              1         1776.91   \n",
      "2511  Online           24            Student              1          131.25   \n",
      "\n",
      "     PreviousTransactionDate  \n",
      "0        2024-11-04 08:08:08  \n",
      "1        2024-11-04 08:09:35  \n",
      "2        2024-11-04 08:07:04  \n",
      "3        2024-11-04 08:09:06  \n",
      "4        2024-11-04 08:06:39  \n",
      "...                      ...  \n",
      "2507     2024-11-04 08:11:29  \n",
      "2508     2024-11-04 08:11:42  \n",
      "2509     2024-11-04 08:08:39  \n",
      "2510     2024-11-04 08:12:22  \n",
      "2511     2024-11-04 08:07:49  \n",
      "\n",
      "[2512 rows x 15 columns]\n"
     ]
    }
   ],
   "source": [
    "del df['TransactionDuration']\n",
    "print(df)"
   ]
  },
  {
   "cell_type": "markdown",
   "metadata": {},
   "source": [
    "* checking if column removed"
   ]
  },
  {
   "cell_type": "code",
   "execution_count": 5,
   "metadata": {},
   "outputs": [
    {
     "name": "stdout",
     "output_type": "stream",
     "text": [
      "<class 'pandas.core.frame.DataFrame'>\n",
      "RangeIndex: 2512 entries, 0 to 2511\n",
      "Data columns (total 15 columns):\n",
      " #   Column                   Non-Null Count  Dtype  \n",
      "---  ------                   --------------  -----  \n",
      " 0   TransactionID            2512 non-null   object \n",
      " 1   AccountID                2512 non-null   object \n",
      " 2   TransactionAmount        2512 non-null   float64\n",
      " 3   TransactionDate          2512 non-null   object \n",
      " 4   TransactionType          2512 non-null   object \n",
      " 5   Location                 2512 non-null   object \n",
      " 6   DeviceID                 2512 non-null   object \n",
      " 7   IP Address               2512 non-null   object \n",
      " 8   MerchantID               2512 non-null   object \n",
      " 9   Channel                  2512 non-null   object \n",
      " 10  CustomerAge              2512 non-null   int64  \n",
      " 11  CustomerOccupation       2512 non-null   object \n",
      " 12  LoginAttempts            2512 non-null   int64  \n",
      " 13  AccountBalance           2512 non-null   float64\n",
      " 14  PreviousTransactionDate  2512 non-null   object \n",
      "dtypes: float64(2), int64(2), object(11)\n",
      "memory usage: 294.5+ KB\n"
     ]
    }
   ],
   "source": [
    "df.info()"
   ]
  },
  {
   "cell_type": "markdown",
   "metadata": {},
   "source": [
    "### checking null values "
   ]
  },
  {
   "cell_type": "code",
   "execution_count": 6,
   "metadata": {},
   "outputs": [
    {
     "name": "stdout",
     "output_type": "stream",
     "text": [
      "TransactionID              0\n",
      "AccountID                  0\n",
      "TransactionAmount          0\n",
      "TransactionDate            0\n",
      "TransactionType            0\n",
      "Location                   0\n",
      "DeviceID                   0\n",
      "IP Address                 0\n",
      "MerchantID                 0\n",
      "Channel                    0\n",
      "CustomerAge                0\n",
      "CustomerOccupation         0\n",
      "LoginAttempts              0\n",
      "AccountBalance             0\n",
      "PreviousTransactionDate    0\n",
      "dtype: int64\n"
     ]
    }
   ],
   "source": [
    "print(df.isna().sum())"
   ]
  },
  {
   "cell_type": "markdown",
   "metadata": {},
   "source": [
    "### checking duplicates\n"
   ]
  },
  {
   "cell_type": "code",
   "execution_count": 7,
   "metadata": {},
   "outputs": [
    {
     "name": "stdout",
     "output_type": "stream",
     "text": [
      "0\n"
     ]
    }
   ],
   "source": [
    "print(df.duplicated().sum())"
   ]
  },
  {
   "cell_type": "markdown",
   "metadata": {},
   "source": [
    "### renaming columns"
   ]
  },
  {
   "cell_type": "code",
   "execution_count": 8,
   "metadata": {},
   "outputs": [
    {
     "name": "stdout",
     "output_type": "stream",
     "text": [
      "None\n",
      "<class 'pandas.core.frame.DataFrame'>\n",
      "RangeIndex: 2512 entries, 0 to 2511\n",
      "Data columns (total 15 columns):\n",
      " #   Column        Non-Null Count  Dtype  \n",
      "---  ------        --------------  -----  \n",
      " 0   tr_id         2512 non-null   object \n",
      " 1   acc_id        2512 non-null   object \n",
      " 2   tr_amt        2512 non-null   float64\n",
      " 3   tr_date       2512 non-null   object \n",
      " 4   tr_type       2512 non-null   object \n",
      " 5   Location      2512 non-null   object \n",
      " 6   DeviceID      2512 non-null   object \n",
      " 7   ip_add        2512 non-null   object \n",
      " 8   MerchantID    2512 non-null   object \n",
      " 9   Channel       2512 non-null   object \n",
      " 10  CustomerAge   2512 non-null   int64  \n",
      " 11  customer_occ  2512 non-null   object \n",
      " 12  login_att     2512 non-null   int64  \n",
      " 13  acc_bal       2512 non-null   float64\n",
      " 14  prev_tr_date  2512 non-null   object \n",
      "dtypes: float64(2), int64(2), object(11)\n",
      "memory usage: 294.5+ KB\n",
      "None\n"
     ]
    }
   ],
   "source": [
    "print(df.rename(columns={'TransactionID':'tr_id','AccountID':'acc_id','TransactionAmount':'tr_amt','TransactionDate':'tr_date',\n",
    "                        'TransactionType':'tr_type','IP Address':'ip_add','CustomerOccupation':'customer_occ',\n",
    "                        'LoginAttempts':'login_att','AccountBalance':'acc_bal','PreviousTransactionDate':'prev_tr_date'},inplace=True))\n",
    "print(df.info())"
   ]
  },
  {
   "cell_type": "code",
   "execution_count": 9,
   "metadata": {},
   "outputs": [
    {
     "name": "stdout",
     "output_type": "stream",
     "text": [
      "      tr_id   acc_id  tr_amt              tr_date tr_type   Location DeviceID  \\\n",
      "0  TX000001  AC00128   14.09  2023-04-11 16:29:14   Debit  San Diego  D000380   \n",
      "\n",
      "           ip_add MerchantID Channel  CustomerAge customer_occ  login_att  \\\n",
      "0  162.198.218.92       M015     ATM           70       Doctor          1   \n",
      "\n",
      "   acc_bal         prev_tr_date  \n",
      "0  5112.21  2024-11-04 08:08:08  \n"
     ]
    }
   ],
   "source": [
    "print(df.head(1))"
   ]
  },
  {
   "cell_type": "markdown",
   "metadata": {},
   "source": [
    "### changing datatypes"
   ]
  },
  {
   "cell_type": "code",
   "execution_count": 10,
   "metadata": {},
   "outputs": [
    {
     "name": "stdout",
     "output_type": "stream",
     "text": [
      "<class 'pandas.core.frame.DataFrame'>\n",
      "RangeIndex: 2512 entries, 0 to 2511\n",
      "Data columns (total 15 columns):\n",
      " #   Column        Non-Null Count  Dtype        \n",
      "---  ------        --------------  -----        \n",
      " 0   tr_id         2512 non-null   object       \n",
      " 1   acc_id        2512 non-null   object       \n",
      " 2   tr_amt        2512 non-null   float64      \n",
      " 3   tr_date       2512 non-null   datetime64[s]\n",
      " 4   tr_type       2512 non-null   string       \n",
      " 5   Location      2512 non-null   string       \n",
      " 6   DeviceID      2512 non-null   object       \n",
      " 7   ip_add        2512 non-null   object       \n",
      " 8   MerchantID    2512 non-null   object       \n",
      " 9   Channel       2512 non-null   string       \n",
      " 10  CustomerAge   2512 non-null   int64        \n",
      " 11  customer_occ  2512 non-null   string       \n",
      " 12  login_att     2512 non-null   int64        \n",
      " 13  acc_bal       2512 non-null   float64      \n",
      " 14  prev_tr_date  2512 non-null   datetime64[s]\n",
      "dtypes: datetime64[s](2), float64(2), int64(2), object(5), string(4)\n",
      "memory usage: 294.5+ KB\n"
     ]
    }
   ],
   "source": [
    "df['tr_date']=df['tr_date'].astype('datetime64[s]')\n",
    "df['tr_type']=df['tr_type'].astype('string')\n",
    "df['Location']=df['Location'].astype('string')\n",
    "df['Channel']=df['Channel'].astype('string')\n",
    "df['customer_occ']=df['customer_occ'].astype('string')\n",
    "df['prev_tr_date']=df['prev_tr_date'].astype('datetime64[s]')\n",
    "df.info()"
   ]
  },
  {
   "cell_type": "markdown",
   "metadata": {},
   "source": [
    "### checking outliers using boxplot"
   ]
  },
  {
   "cell_type": "code",
   "execution_count": 11,
   "metadata": {},
   "outputs": [
    {
     "data": {
      "text/plain": [
       "([0, 1, 2, 3],\n",
       " [Text(0, 0, 'tr_amt'),\n",
       "  Text(1, 0, 'CustomerAge'),\n",
       "  Text(2, 0, 'login_att'),\n",
       "  Text(3, 0, 'acc_bal')])"
      ]
     },
     "execution_count": 11,
     "metadata": {},
     "output_type": "execute_result"
    },
    {
     "data": {
      "image/png": "[encoded data removed]",
      "text/plain": [
       "<Figure size 640x480 with 1 Axes>"
      ]
     },
     "metadata": {},
     "output_type": "display_data"
    }
   ],
   "source": [
    "sns.boxplot(data=df)\n",
    "plt.xticks(rotation=45)"
   ]
  },
  {
   "cell_type": "markdown",
   "metadata": {},
   "source": [
    "### removing outliers using zscore"
   ]
  },
  {
   "cell_type": "code",
   "execution_count": 12,
   "metadata": {},
   "outputs": [
    {
     "name": "stdout",
     "output_type": "stream",
     "text": [
      "         tr_id   acc_id  tr_amt             tr_date tr_type      Location  \\\n",
      "0     TX000001  AC00128   14.09 2023-04-11 16:29:14   Debit     San Diego   \n",
      "1     TX000002  AC00455  376.24 2023-06-27 16:44:19   Debit       Houston   \n",
      "2     TX000003  AC00019  126.29 2023-07-10 18:16:08   Debit          Mesa   \n",
      "3     TX000004  AC00070  184.50 2023-05-05 16:32:11   Debit       Raleigh   \n",
      "4     TX000005  AC00411   13.45 2023-10-16 17:51:24  Credit       Atlanta   \n",
      "...        ...      ...     ...                 ...     ...           ...   \n",
      "2506  TX002507  AC00258   92.24 2023-04-13 17:45:33   Debit  Philadelphia   \n",
      "2508  TX002509  AC00322  251.54 2023-03-22 17:36:48   Debit        Tucson   \n",
      "2509  TX002510  AC00095   28.63 2023-08-21 17:08:50   Debit     San Diego   \n",
      "2510  TX002511  AC00118  185.97 2023-02-24 16:24:46   Debit        Denver   \n",
      "2511  TX002512  AC00009  243.08 2023-02-14 16:21:23  Credit  Jacksonville   \n",
      "\n",
      "     DeviceID          ip_add MerchantID Channel  CustomerAge customer_occ  \\\n",
      "0     D000380  162.198.218.92       M015     ATM           70       Doctor   \n",
      "1     D000051     13.149.61.4       M052     ATM           68       Doctor   \n",
      "2     D000235  215.97.143.157       M009  Online           19      Student   \n",
      "3     D000187  200.13.225.150       M002  Online           26      Student   \n",
      "4     D000308    65.164.3.100       M091  Online           26      Student   \n",
      "...       ...             ...        ...     ...          ...          ...   \n",
      "2506  D000531  189.183.50.147       M076  Branch           60     Engineer   \n",
      "2508  D000410  49.174.157.140       M029  Branch           48       Doctor   \n",
      "2509  D000095     58.1.27.124       M087  Branch           56      Retired   \n",
      "2510  D000634   21.190.11.223       M041  Online           23      Student   \n",
      "2511  D000215   59.127.135.25       M041  Online           24      Student   \n",
      "\n",
      "      login_att   acc_bal        prev_tr_date  z_scoretr_amt  \\\n",
      "0             1   5112.21 2024-11-04 08:08:08      -0.971082   \n",
      "1             1  13758.91 2024-11-04 08:09:35       0.269386   \n",
      "2             1   1122.35 2024-11-04 08:07:04      -0.586765   \n",
      "3             1   8569.06 2024-11-04 08:09:06      -0.387379   \n",
      "4             1   7429.40 2024-11-04 08:06:39      -0.973274   \n",
      "...         ...       ...                 ...            ...   \n",
      "2506          1   6937.48 2024-11-04 08:09:06      -0.703396   \n",
      "2508          1    254.75 2024-11-04 08:11:42      -0.157747   \n",
      "2509          1   3382.91 2024-11-04 08:08:39      -0.921278   \n",
      "2510          1   1776.91 2024-11-04 08:12:22      -0.382344   \n",
      "2511          1    131.25 2024-11-04 08:07:49      -0.186725   \n",
      "\n",
      "      z_scoreCustomerAge  z_scorelogin_att  \n",
      "0               1.423435         -0.206752  \n",
      "1               1.311026         -0.206752  \n",
      "2              -1.442990         -0.206752  \n",
      "3              -1.049559         -0.206752  \n",
      "4              -1.049559         -0.206752  \n",
      "...                  ...               ...  \n",
      "2506            0.861391         -0.206752  \n",
      "2508            0.186938         -0.206752  \n",
      "2509            0.636573         -0.206752  \n",
      "2510           -1.218172         -0.206752  \n",
      "2511           -1.161968         -0.206752  \n",
      "\n",
      "[2038 rows x 18 columns]\n"
     ]
    }
   ],
   "source": [
    "col1=['tr_amt','CustomerAge','login_att']\n",
    "threshold=1.5\n",
    "for col in col1:\n",
    " df[f'z_score{col}']=(df[col]-df[col].mean())/df[col].std()\n",
    "df1=df[(df[[f'z_score{col}' for col in col1]].abs() <= threshold).all(axis=1)]\n",
    "print(df1)\n",
    "df1=df1.drop(columns=[f'z_score{col}' for col in col1])"
   ]
  },
  {
   "cell_type": "code",
   "execution_count": 13,
   "metadata": {},
   "outputs": [
    {
     "data": {
      "text/plain": [
       "([0, 1, 2, 3],\n",
       " [Text(0, 0, 'tr_amt'),\n",
       "  Text(1, 0, 'CustomerAge'),\n",
       "  Text(2, 0, 'login_att'),\n",
       "  Text(3, 0, 'acc_bal')])"
      ]
     },
     "execution_count": 13,
     "metadata": {},
     "output_type": "execute_result"
    },
    {
     "data": {
      "image/png": "[encoded data removed]",
      "text/plain": [
       "<Figure size 640x480 with 1 Axes>"
      ]
     },
     "metadata": {},
     "output_type": "display_data"
    }
   ],
   "source": [
    "sns.boxplot(data=df1)\n",
    "plt.xticks(rotation=45)"
   ]
  },
  {
   "cell_type": "markdown",
   "metadata": {},
   "source": [
    "* maximum outliers has been removed using z_score "
   ]
  },
  {
   "cell_type": "markdown",
   "metadata": {},
   "source": [
    "## STATISTICAL ANALYSIS\n",
    "### Functions used: describe(),cov(),corr(),std()"
   ]
  },
  {
   "cell_type": "code",
   "execution_count": 14,
   "metadata": {},
   "outputs": [
    {
     "name": "stdout",
     "output_type": "stream",
     "text": [
      "       tr_amt              tr_date  CustomerAge  login_att  acc_bal  \\\n",
      "count  2038.0                 2038       2038.0     2038.0   2038.0   \n",
      "mean    228.0  2023-07-05 04:11:45         42.0        1.0   5106.0   \n",
      "min       0.0  2023-01-02 16:00:06         18.0        1.0    101.0   \n",
      "25%      75.0  2023-04-01 12:14:15         27.0        1.0   1425.0   \n",
      "50%     182.0  2023-07-05 17:07:02         42.0        1.0   4726.0   \n",
      "75%     345.0  2023-10-09 16:50:13         57.0        1.0   7847.0   \n",
      "max     735.0  2024-01-01 18:21:50         71.0        2.0  14978.0   \n",
      "std     183.0                  NaN         16.0        0.0   3966.0   \n",
      "\n",
      "              prev_tr_date  \n",
      "count                 2038  \n",
      "mean   2024-11-04 08:09:22  \n",
      "min    2024-11-04 08:06:23  \n",
      "25%    2024-11-04 08:07:55  \n",
      "50%    2024-11-04 08:09:23  \n",
      "75%    2024-11-04 08:10:53  \n",
      "max    2024-11-04 08:12:23  \n",
      "std                    NaN  \n"
     ]
    }
   ],
   "source": [
    "print(df1.describe().round())"
   ]
  },
  {
   "cell_type": "code",
   "execution_count": 15,
   "metadata": {},
   "outputs": [
    {
     "name": "stdout",
     "output_type": "stream",
     "text": [
      "              tr_amt  CustomerAge  login_att     acc_bal\n",
      "tr_amt       33380.0        -64.0        0.0    -31594.0\n",
      "CustomerAge    -64.0        256.0        0.0     24887.0\n",
      "login_att        0.0          0.0        0.0         5.0\n",
      "acc_bal     -31594.0      24887.0        5.0  15725612.0\n"
     ]
    }
   ],
   "source": [
    "print(df1.cov(numeric_only=True).round())"
   ]
  },
  {
   "cell_type": "code",
   "execution_count": 16,
   "metadata": {},
   "outputs": [
    {
     "name": "stdout",
     "output_type": "stream",
     "text": [
      "             tr_amt  CustomerAge  login_att  acc_bal\n",
      "tr_amt          1.0         -0.0        0.0     -0.0\n",
      "CustomerAge    -0.0          1.0        0.0      0.0\n",
      "login_att       0.0          0.0        1.0      0.0\n",
      "acc_bal        -0.0          0.0        0.0      1.0\n"
     ]
    }
   ],
   "source": [
    "print(df1.corr(numeric_only=True).round())"
   ]
  },
  {
   "cell_type": "code",
   "execution_count": 17,
   "metadata": {},
   "outputs": [
    {
     "name": "stdout",
     "output_type": "stream",
     "text": [
      "tr_amt          183.0\n",
      "CustomerAge      16.0\n",
      "login_att         0.0\n",
      "acc_bal        3966.0\n",
      "dtype: float64\n"
     ]
    }
   ],
   "source": [
    "print(df1.std(numeric_only=True).round())"
   ]
  },
  {
   "cell_type": "markdown",
   "metadata": {},
   "source": [
    "# EXPLORATORY DATA ANALYSIS"
   ]
  },
  {
   "cell_type": "markdown",
   "metadata": {},
   "source": [
    "1. what is the frequency of transaction types used among customers"
   ]
  },
  {
   "cell_type": "code",
   "execution_count": 18,
   "metadata": {},
   "outputs": [
    {
     "name": "stdout",
     "output_type": "stream",
     "text": [
      "tr_type\n",
      "Credit     449\n",
      "Debit     1589\n",
      "dtype: int64\n"
     ]
    },
    {
     "data": {
      "image/png": "[encoded data removed]",
      "text/plain": [
       "<Figure size 640x480 with 1 Axes>"
      ]
     },
     "metadata": {},
     "output_type": "display_data"
    }
   ],
   "source": [
    "f1=df1.groupby('tr_type').size()\n",
    "print(f1)\n",
    "f1.plot(kind='barh',title='Frequency wise distribution')\n",
    "plt.xlabel('transaction type')\n",
    "plt.ylabel('frequency')\n",
    "plt.show()"
   ]
  },
  {
   "cell_type": "markdown",
   "metadata": {},
   "source": [
    "2. What is the average transaction amount based on customer occupation.\n"
   ]
  },
  {
   "cell_type": "code",
   "execution_count": 19,
   "metadata": {},
   "outputs": [
    {
     "name": "stdout",
     "output_type": "stream",
     "text": [
      "customer_occ\n",
      "Doctor      214.731827\n",
      "Engineer    227.900144\n",
      "Retired     232.387224\n",
      "Student     236.863310\n",
      "Name: tr_amt, dtype: float64\n"
     ]
    },
    {
     "data": {
      "image/png": "[encoded data removed]",
      "text/plain": [
       "<Figure size 640x480 with 1 Axes>"
      ]
     },
     "metadata": {},
     "output_type": "display_data"
    }
   ],
   "source": [
    "t1=df1.groupby('customer_occ')['tr_amt'].mean()\n",
    "print(t1)\n",
    "t1.plot(kind='bar',color='#006400',title='Distribution based on transaction amount and customer occupation')\n",
    "plt.xlabel('customer occupation')\n",
    "plt.ylabel('average transaction amount')\n",
    "plt.show()"
   ]
  },
  {
   "cell_type": "markdown",
   "metadata": {},
   "source": [
    "3. what is the total transaction amount based on customer occupation"
   ]
  },
  {
   "cell_type": "code",
   "execution_count": 20,
   "metadata": {},
   "outputs": [
    {
     "name": "stdout",
     "output_type": "stream",
     "text": [
      "customer_occ\n",
      "Doctor      116384.65\n",
      "Engineer    126256.68\n",
      "Retired      86215.66\n",
      "Student     135248.95\n",
      "Name: tr_amt, dtype: float64\n"
     ]
    }
   ],
   "source": [
    "print(df1.groupby('customer_occ')['tr_amt'].sum())\n"
   ]
  },
  {
   "cell_type": "markdown",
   "metadata": {},
   "source": [
    "4. what is average transaction amount based on customer age "
   ]
  },
  {
   "cell_type": "code",
   "execution_count": 21,
   "metadata": {},
   "outputs": [
    {
     "name": "stdout",
     "output_type": "stream",
     "text": [
      "CustomerAge\n",
      "18    220.810200\n",
      "19    251.988125\n",
      "20    201.243721\n",
      "21    238.713390\n",
      "22    282.147647\n",
      "23    239.113333\n",
      "24    203.774146\n",
      "25    225.931290\n",
      "26    245.667342\n",
      "27    256.873750\n",
      "28    231.249500\n",
      "29    278.566562\n",
      "30    157.953333\n",
      "31    175.430323\n",
      "32    219.132500\n",
      "33    207.271481\n",
      "34    195.142581\n",
      "35    233.114091\n",
      "36    242.270000\n",
      "37    228.223929\n",
      "38    171.727619\n",
      "39    230.475313\n",
      "40    202.526786\n",
      "41    217.640690\n",
      "42    262.227097\n",
      "43    276.572593\n",
      "44    289.844615\n",
      "45    169.964583\n",
      "46    275.683714\n",
      "47    268.649444\n",
      "48    229.249167\n",
      "49    169.047838\n",
      "50    188.521600\n",
      "51    222.560392\n",
      "52    199.049750\n",
      "53    221.255686\n",
      "54    214.189524\n",
      "55    252.612857\n",
      "56    191.246923\n",
      "57    203.954107\n",
      "58    226.225435\n",
      "59    226.451860\n",
      "60    271.314737\n",
      "61    325.125600\n",
      "62    193.111212\n",
      "63    187.335714\n",
      "64    247.540789\n",
      "65    209.360000\n",
      "66    242.541429\n",
      "67    192.735000\n",
      "68    240.300233\n",
      "69    245.301034\n",
      "70    225.628421\n",
      "71    186.890000\n",
      "Name: tr_amt, dtype: float64\n"
     ]
    },
    {
     "data": {
      "image/png": "[encoded data removed]",
      "text/plain": [
       "<Figure size 640x480 with 1 Axes>"
      ]
     },
     "metadata": {},
     "output_type": "display_data"
    },
    {
     "name": "stdout",
     "output_type": "stream",
     "text": [
      "CustomerAge\n",
      "61    325.125600\n",
      "44    289.844615\n",
      "22    282.147647\n",
      "29    278.566562\n",
      "43    276.572593\n",
      "46    275.683714\n",
      "60    271.314737\n",
      "47    268.649444\n",
      "42    262.227097\n",
      "27    256.873750\n",
      "Name: tr_amt, dtype: float64\n"
     ]
    }
   ],
   "source": [
    "c1=df1.groupby('CustomerAge')['tr_amt'].mean()\n",
    "print(c1)\n",
    "c1.plot(kind='bar',title='average transaction amount ')\n",
    "plt.xlabel('age')\n",
    "plt.ylabel('average transac amount')\n",
    "plt.xticks(rotation=90)\n",
    "plt.show()\n",
    "c2=df1.groupby('CustomerAge')['tr_amt'].mean().sort_values(ascending=False).head(10)\n",
    "print(c2)"
   ]
  },
  {
   "cell_type": "markdown",
   "metadata": {},
   "source": [
    "5. How does the transaction amount differ across various locations"
   ]
  },
  {
   "cell_type": "code",
   "execution_count": 22,
   "metadata": {},
   "outputs": [
    {
     "name": "stdout",
     "output_type": "stream",
     "text": [
      "Location\n",
      "Albuquerque          7385.34\n",
      "Atlanta             10779.88\n",
      "Austin               9286.42\n",
      "Baltimore           10583.06\n",
      "Boston              12036.06\n",
      "Charlotte           13269.49\n",
      "Chicago             10934.43\n",
      "Colorado Springs    11037.54\n",
      "Columbus             9380.14\n",
      "Dallas               7501.31\n",
      "Denver              11910.02\n",
      "Detroit             12633.06\n",
      "El Paso              8475.24\n",
      "Fort Worth          12291.93\n",
      "Fresno              11400.87\n",
      "Houston             11272.47\n",
      "Indianapolis        12631.40\n",
      "Jacksonville        11098.42\n",
      "Kansas City         12512.04\n",
      "Las Vegas           11284.45\n",
      "Los Angeles         11351.20\n",
      "Louisville           7345.26\n",
      "Memphis              9992.35\n",
      "Mesa                14788.70\n",
      "Miami               10606.62\n",
      "Milwaukee            9845.04\n",
      "Nashville           11319.86\n",
      "New York            10130.03\n",
      "Oklahoma City       13760.76\n",
      "Omaha               12532.47\n",
      "Philadelphia        11193.37\n",
      "Phoenix              9004.21\n",
      "Portland             8393.75\n",
      "Raleigh              9771.31\n",
      "Sacramento           8922.99\n",
      "San Antonio         11349.84\n",
      "San Diego            9592.57\n",
      "San Francisco        9687.34\n",
      "San Jose            14939.03\n",
      "Seattle              9910.32\n",
      "Tucson              13143.61\n",
      "Virginia Beach       9167.77\n",
      "Washington           9653.97\n",
      "Name: tr_amt, dtype: float64\n"
     ]
    },
    {
     "data": {
      "image/png": "[encoded data removed]",
      "text/plain": [
       "<Figure size 640x480 with 1 Axes>"
      ]
     },
     "metadata": {},
     "output_type": "display_data"
    }
   ],
   "source": [
    "l1=df1.groupby('Location')['tr_amt'].sum()\n",
    "print(l1)\n",
    "l1.plot(kind='bar',title='transaction amount based o location')\n",
    "plt.xlabel('location')\n",
    "plt.ylabel('amount')\n",
    "plt.show()\n"
   ]
  },
  {
   "cell_type": "markdown",
   "metadata": {},
   "source": [
    "6.What is the percentage of transactions made through each channel"
   ]
  },
  {
   "cell_type": "code",
   "execution_count": 23,
   "metadata": {},
   "outputs": [
    {
     "name": "stdout",
     "output_type": "stream",
     "text": [
      "Channel\n",
      "Branch    35.132483\n",
      "ATM       33.169774\n",
      "Online    31.697743\n",
      "Name: proportion, dtype: Float64\n"
     ]
    }
   ],
   "source": [
    "t2= df1['Channel'].value_counts(normalize=True)*100\n",
    "print(t2)"
   ]
  },
  {
   "cell_type": "markdown",
   "metadata": {},
   "source": [
    "7. which location has the highest transaction amount"
   ]
  },
  {
   "cell_type": "code",
   "execution_count": 24,
   "metadata": {},
   "outputs": [
    {
     "name": "stdout",
     "output_type": "stream",
     "text": [
      "Location\n",
      "San Jose         14939.03\n",
      "Mesa             14788.70\n",
      "Oklahoma City    13760.76\n",
      "Name: tr_amt, dtype: float64\n"
     ]
    }
   ],
   "source": [
    "l2=df1.groupby('Location')['tr_amt'].sum().sort_values(ascending=False).head(3)\n",
    "print(l2)"
   ]
  },
  {
   "cell_type": "markdown",
   "metadata": {},
   "source": [
    "8. How does channels differ based on location"
   ]
  },
  {
   "cell_type": "code",
   "execution_count": 25,
   "metadata": {},
   "outputs": [
    {
     "name": "stdout",
     "output_type": "stream",
     "text": [
      "           Location Channel  count\n",
      "0       Albuquerque     ATM     11\n",
      "1       Albuquerque  Branch     11\n",
      "2       Albuquerque  Online     14\n",
      "3           Atlanta     ATM     13\n",
      "4           Atlanta  Branch     17\n",
      "..              ...     ...    ...\n",
      "124  Virginia Beach  Branch     19\n",
      "125  Virginia Beach  Online     13\n",
      "126      Washington     ATM      9\n",
      "127      Washington  Branch     15\n",
      "128      Washington  Online     12\n",
      "\n",
      "[129 rows x 3 columns]\n"
     ]
    }
   ],
   "source": [
    "ch1=df1.groupby(['Location','Channel']).size().reset_index(name='count')\n",
    "print(ch1)"
   ]
  },
  {
   "cell_type": "markdown",
   "metadata": {},
   "source": [
    "9.How does the time between transaction date and previous transaction date affect the transaction amount"
   ]
  },
  {
   "cell_type": "code",
   "execution_count": 26,
   "metadata": {},
   "outputs": [
    {
     "name": "stdout",
     "output_type": "stream",
     "text": [
      "0\n"
     ]
    }
   ],
   "source": [
    "df1['timegap'] = (df1['tr_date'] - df1['prev_tr_date']).dt.days\n",
    "relation1=df1['tr_amt'].corr(df1['timegap'])\n",
    "print(relation1.__round__())\n",
    "\n",
    "\n",
    "\n"
   ]
  },
  {
   "cell_type": "markdown",
   "metadata": {},
   "source": [
    "10. How does login attempts relate with account balance?"
   ]
  },
  {
   "cell_type": "code",
   "execution_count": 27,
   "metadata": {},
   "outputs": [
    {
     "name": "stdout",
     "output_type": "stream",
     "text": [
      "0.012300050031712207\n"
     ]
    }
   ],
   "source": [
    "r1=df1['login_att'].corr(df1['acc_bal'])\n",
    "print(r1)"
   ]
  },
  {
   "cell_type": "markdown",
   "metadata": {},
   "source": [
    "11. how does customer occupation vary with account balance?"
   ]
  },
  {
   "cell_type": "code",
   "execution_count": 28,
   "metadata": {},
   "outputs": [
    {
     "name": "stdout",
     "output_type": "stream",
     "text": [
      "customer_occ\n",
      "Doctor      4844544.34\n",
      "Engineer    3035713.65\n",
      "Retired     1655567.06\n",
      "Student      871175.70\n",
      "Name: acc_bal, dtype: float64\n"
     ]
    }
   ],
   "source": [
    "print(df1.groupby('customer_occ')['acc_bal'].sum())\n",
    "\n"
   ]
  },
  {
   "cell_type": "markdown",
   "metadata": {},
   "source": [
    "12. which customer occupation has done highest number of transaction  "
   ]
  },
  {
   "cell_type": "code",
   "execution_count": 29,
   "metadata": {},
   "outputs": [
    {
     "name": "stdout",
     "output_type": "stream",
     "text": [
      "customer_occ\n",
      "Student     571\n",
      "Engineer    554\n",
      "Doctor      542\n",
      "Retired     371\n",
      "Name: tr_id, dtype: int64\n"
     ]
    }
   ],
   "source": [
    "cus1=df1.groupby('customer_occ')['tr_id'].size().sort_values(ascending=False)\n",
    "print(cus1)"
   ]
  },
  {
   "cell_type": "markdown",
   "metadata": {},
   "source": [
    "13. what is the frequency of channels used by customers?"
   ]
  },
  {
   "cell_type": "code",
   "execution_count": 30,
   "metadata": {},
   "outputs": [
    {
     "name": "stdout",
     "output_type": "stream",
     "text": [
      "Channel\n",
      "ATM       676\n",
      "Branch    716\n",
      "Online    646\n",
      "dtype: int64\n"
     ]
    }
   ],
   "source": [
    "print(df1.groupby('Channel').size())"
   ]
  },
  {
   "cell_type": "markdown",
   "metadata": {},
   "source": [
    "14.Do any customers exhibit unusually high numbers of failed login attempts (login_att)?"
   ]
  },
  {
   "cell_type": "code",
   "execution_count": 31,
   "metadata": {},
   "outputs": [
    {
     "name": "stdout",
     "output_type": "stream",
     "text": [
      "Empty DataFrame\n",
      "Columns: [tr_id, acc_id, tr_amt, tr_date, tr_type, Location, DeviceID, ip_add, MerchantID, Channel, CustomerAge, customer_occ, login_att, acc_bal, prev_tr_date, timegap, failed_attempts]\n",
      "Index: []\n"
     ]
    }
   ],
   "source": [
    "attempt = 3\n",
    "df1['failed_attempts'] = df1['login_att'].apply(lambda y: 'failed attempt' if abs(y) > attempt else 'ok')\n",
    "failed_logins = df1[df1['failed_attempts'] == 'failed attempt']\n",
    "print(failed_logins)\n",
    "\n"
   ]
  },
  {
   "cell_type": "markdown",
   "metadata": {},
   "source": [
    "* no suspicious login attempts found"
   ]
  },
  {
   "cell_type": "markdown",
   "metadata": {},
   "source": [
    "15.Are large withdrawals or deposits followed by immediate transactions, suggesting potential money laundering"
   ]
  },
  {
   "cell_type": "code",
   "execution_count": 32,
   "metadata": {},
   "outputs": [
    {
     "name": "stdout",
     "output_type": "stream",
     "text": [
      "Empty DataFrame\n",
      "Columns: [acc_id, tr_date, tr_amt, prev_tr_date, time_gap]\n",
      "Index: []\n"
     ]
    }
   ],
   "source": [
    "threshold=1000\n",
    "df1['large transactions']=df1['tr_amt'].apply(lambda x: 'large'if abs(x)>threshold else 'normal')\n",
    "df1=df1.sort_values(['acc_id','tr_date'])\n",
    "df1['time_gap']=(df1['tr_date']-df1['prev_tr_date']).dt.total_seconds() /60\n",
    "df1['suspicious']= (df1['large transactions']=='large')& (df1['time_gap']<60)\n",
    "suspicious_tr=df1[df1['suspicious']==True]\n",
    "print(suspicious_tr[['acc_id','tr_date','tr_amt','prev_tr_date','time_gap']])"
   ]
  },
  {
   "cell_type": "markdown",
   "metadata": {},
   "source": [
    "16. find the frequency of merchant id used"
   ]
  },
  {
   "cell_type": "code",
   "execution_count": 33,
   "metadata": {},
   "outputs": [
    {
     "name": "stdout",
     "output_type": "stream",
     "text": [
      "MerchantID\n",
      "M026    35\n",
      "M014    30\n",
      "M066    30\n",
      "M068    29\n",
      "M013    28\n",
      "        ..\n",
      "M056    13\n",
      "M072    12\n",
      "M077    11\n",
      "M079    11\n",
      "M006    10\n",
      "Length: 100, dtype: int64\n"
     ]
    }
   ],
   "source": [
    "print(df1.groupby('MerchantID').size().sort_values(ascending=False))"
   ]
  },
  {
   "cell_type": "markdown",
   "metadata": {},
   "source": [
    "17. finding transaction id corresponding to merchant id "
   ]
  },
  {
   "cell_type": "code",
   "execution_count": 34,
   "metadata": {},
   "outputs": [
    {
     "name": "stdout",
     "output_type": "stream",
     "text": [
      "MerchantID\n",
      "M026    35\n",
      "M014    30\n",
      "M066    30\n",
      "M068    29\n",
      "M013    28\n",
      "        ..\n",
      "M056    13\n",
      "M072    12\n",
      "M077    11\n",
      "M079    11\n",
      "M006    10\n",
      "Name: tr_id, Length: 100, dtype: int64\n"
     ]
    }
   ],
   "source": [
    "merchant_1= df1.groupby('MerchantID')['tr_id'].size().sort_values(ascending=False)\n",
    "print(merchant_1)\n",
    "mean_tr=merchant_1.mean()\n",
    "std_tr=merchant_1.std()\n"
   ]
  },
  {
   "cell_type": "markdown",
   "metadata": {},
   "source": [
    "18.find merchant id with anomalies"
   ]
  },
  {
   "cell_type": "code",
   "execution_count": 35,
   "metadata": {},
   "outputs": [
    {
     "name": "stdout",
     "output_type": "stream",
     "text": [
      "MerchantID\n",
      "M026    35\n",
      "M014    30\n",
      "M066    30\n",
      "Name: tr_id, dtype: int64\n"
     ]
    }
   ],
   "source": [
    "anomalies=merchant_1[merchant_1>mean_tr+2*std_tr]\n",
    "print(anomalies)"
   ]
  },
  {
   "cell_type": "markdown",
   "metadata": {},
   "source": [
    "* anomalies is found with three merchant id "
   ]
  },
  {
   "cell_type": "markdown",
   "metadata": {},
   "source": [
    "* finding the details of merchat ids"
   ]
  },
  {
   "cell_type": "code",
   "execution_count": 36,
   "metadata": {},
   "outputs": [
    {
     "name": "stdout",
     "output_type": "stream",
     "text": [
      "     MerchantID     tr_id  tr_amt\n",
      "1028       M026  TX001029  516.47\n",
      "2441       M066  TX002442   61.62\n",
      "1819       M014  TX001820  365.43\n",
      "759        M066  TX000760  417.80\n",
      "215        M026  TX000216   74.88\n",
      "...         ...       ...     ...\n",
      "1380       M014  TX001381  421.74\n",
      "1558       M014  TX001559  659.15\n",
      "351        M066  TX000352   29.58\n",
      "2336       M014  TX002337   63.33\n",
      "2349       M026  TX002350  134.55\n",
      "\n",
      "[95 rows x 3 columns]\n"
     ]
    }
   ],
   "source": [
    "anomalous_merchant=anomalies.index\n",
    "m1=df1[df1['MerchantID'].isin(anomalous_merchant)][['MerchantID','tr_id','tr_amt']]\n",
    "print(m1)"
   ]
  },
  {
   "cell_type": "markdown",
   "metadata": {},
   "source": [
    "19. finding merchant id with highest transaction amount"
   ]
  },
  {
   "cell_type": "code",
   "execution_count": 37,
   "metadata": {},
   "outputs": [
    {
     "name": "stdout",
     "output_type": "stream",
     "text": [
      "MerchantID\n",
      "M026    8109.63\n",
      "Name: tr_amt, dtype: float64\n"
     ]
    }
   ],
   "source": [
    "print(df1.groupby('MerchantID')['tr_amt'].sum().sort_values(ascending=False).head(1))"
   ]
  },
  {
   "cell_type": "markdown",
   "metadata": {},
   "source": [
    "20. finding the customer occupation related to merchant id M026 and the percentage of transaction done by them"
   ]
  },
  {
   "cell_type": "code",
   "execution_count": 38,
   "metadata": {},
   "outputs": [
    {
     "name": "stdout",
     "output_type": "stream",
     "text": [
      "customer_occ\n",
      "Engineer         40.0\n",
      "Student     25.714286\n",
      "Doctor      25.714286\n",
      "Retired      8.571429\n",
      "Name: proportion, dtype: Float64\n"
     ]
    }
   ],
   "source": [
    "mercahntid=df1[df1['MerchantID']=='M026']\n",
    "mec_id=mercahntid['customer_occ'].value_counts(normalize=True)*100\n",
    "print(mec_id)"
   ]
  },
  {
   "cell_type": "markdown",
   "metadata": {},
   "source": [
    "## ANALYSIS SUMMARY"
   ]
  },
  {
   "cell_type": "markdown",
   "metadata": {},
   "source": [
    "From the data analysis of data set containing banking transactions following insights has been obtained :\n",
    "* The analysis revealed a total of 449 credit transactions and 1589 debit transactions which suggests that most customers are engaged in spending or withdrawal activities rather than depositing funds.\n",
    "* Students were found to have the highest transaction amount, totaling INR 135,248.95, which may be used for educational purposes.\n",
    "* The total account balance for students was INR 4,844,544.34, reflecting a substantial amount of funds across student accounts. Students also had the highest number of transactions, totaling 571 transactions, which highlights frequent engagement with their accounts.\n",
    "* San Jose recorded the highest transaction amount of INR 14,939.03, followed by Mesa with INR 14,788.70, and Oklahoma City with INR 13,760.76. \n",
    "* 35% of transactions were made through branches, suggesting that a notable portion of customers still prefer to complete their transactions at physical locations.\n",
    "* No failed login attempts were found, indicating that there are no access issues for customer accounts.\n",
    "* No large deposits or withdrawals were identified, suggesting that there were no unusual or suspicious large fund movements.\n",
    "* Three merchant IDs—M014, M026, and M066—were identified with potential anomalies based on transaction volume or patterns. Notably, MerchantID M026 had the highest transaction count of 35 transactions  which may require further inspection to determine if it indicates any fraudulent activity.\n",
    "* No correlation was found between transaction date and transaction amount, suggesting that transaction amounts are not influenced by specific dates or times.\n",
    "* No correlation was identified between login attempts and account balance, indicating that the frequency of login attempts does not have a significant impact on account balances."
   ]
  }
 ],
 "metadata": {
  "kernelspec": {
   "display_name": "Python 3",
   "language": "python",
   "name": "python3"
  },
  "language_info": {
   "codemirror_mode": {
    "name": "ipython",
    "version": 3
   },
   "file_extension": ".py",
   "mimetype": "text/x-python",
   "name": "python",
   "nbconvert_exporter": "python",
   "pygments_lexer": "ipython3",
   "version": "3.10.11"
  }
 },
 "nbformat": 4,
 "nbformat_minor": 2
}
